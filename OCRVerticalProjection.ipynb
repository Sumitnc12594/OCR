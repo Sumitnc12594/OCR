{
 "cells": [
  {
   "cell_type": "code",
   "execution_count": 4,
   "metadata": {},
   "outputs": [],
   "source": [
    "import cv2\n",
    "import numpy as np"
   ]
  },
  {
   "cell_type": "code",
   "execution_count": 17,
   "metadata": {},
   "outputs": [
    {
     "name": "stdout",
     "output_type": "stream",
     "text": [
      "(819,) 12337 500 (141, 819)\n"
     ]
    }
   ],
   "source": [
    "# Load as greyscale\n",
    "im = cv2.imread('/Users/priyankamarihal/Downloads/imageText.png', cv2.IMREAD_GRAYSCALE)\n",
    "\n",
    "# Invert\n",
    "im = 255 - im\n",
    "\n",
    "# Calculate horizontal projection\n",
    "proj = np.sum(im,0)\n",
    "\n",
    "# Create output image same height as text, 500 px wide\n",
    "m = np.max(proj)\n",
    "w = 500\n",
    "print(proj.shape, m,w,im.shape)"
   ]
  },
  {
   "cell_type": "code",
   "execution_count": 20,
   "metadata": {},
   "outputs": [
    {
     "data": {
      "text/plain": [
       "True"
      ]
     },
     "execution_count": 20,
     "metadata": {},
     "output_type": "execute_result"
    }
   ],
   "source": [
    "result = np.zeros((proj.shape[0],500))\n",
    "\n",
    "# Draw a line for each row\n",
    "for row in range(im.shape[1]):\n",
    "   cv2.line(result, (row,0), (row,int(proj[row]*w/m)), (255,255,255), 1)\n",
    "\n",
    "# Save result\n",
    "cv2.imwrite('/Users/priyankamarihal/Downloads/result4.png', result)"
   ]
  },
  {
   "cell_type": "code",
   "execution_count": 29,
   "metadata": {},
   "outputs": [
    {
     "data": {
      "text/plain": [
       "'abcdefghijklmnopqrstuvwxyzABCDEFGHIJKLMNOPQRSTUVWXYZ0123456789'"
      ]
     },
     "execution_count": 29,
     "metadata": {},
     "output_type": "execute_result"
    }
   ],
   "source": [
    "import sys\n",
    "import string\n",
    "char_list = string.ascii_letters+string.digits\n",
    "char_list"
   ]
  },
  {
   "cell_type": "code",
   "execution_count": 30,
   "metadata": {},
   "outputs": [],
   "source": [
    "def encode_to_labels(txt):\n",
    "    # encoding each output word into digits\n",
    "    dig_lst = []\n",
    "    for index, char in enumerate(txt):\n",
    "        try:\n",
    "            dig_lst.append(char_list.index(char))\n",
    "        except:\n",
    "            print(char)\n",
    "        \n",
    "    return dig_lst"
   ]
  },
  {
   "cell_type": "code",
   "execution_count": null,
   "metadata": {},
   "outputs": [],
   "source": []
  }
 ],
 "metadata": {
  "kernelspec": {
   "display_name": "Python 3",
   "language": "python",
   "name": "python3"
  },
  "language_info": {
   "codemirror_mode": {
    "name": "ipython",
    "version": 3
   },
   "file_extension": ".py",
   "mimetype": "text/x-python",
   "name": "python",
   "nbconvert_exporter": "python",
   "pygments_lexer": "ipython3",
   "version": "3.7.2"
  }
 },
 "nbformat": 4,
 "nbformat_minor": 2
}
